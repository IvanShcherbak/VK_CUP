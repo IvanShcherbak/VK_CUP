{
  "nbformat": 4,
  "nbformat_minor": 0,
  "metadata": {
    "colab": {
      "provenance": [],
      "authorship_tag": "ABX9TyPC7md7ABX4ETj59NWqJtDq",
      "include_colab_link": true
    },
    "kernelspec": {
      "name": "python3",
      "display_name": "Python 3"
    },
    "language_info": {
      "name": "python"
    }
  },
  "cells": [
    {
      "cell_type": "markdown",
      "metadata": {
        "id": "view-in-github",
        "colab_type": "text"
      },
      "source": [
        "<a href=\"https://colab.research.google.com/github/IvanShcherbak/VK_CUP/blob/main/VK_CUP.ipynb\" target=\"_parent\"><img src=\"https://colab.research.google.com/assets/colab-badge.svg\" alt=\"Open In Colab\"/></a>"
      ]
    },
    {
      "cell_type": "code",
      "execution_count": 165,
      "metadata": {
        "id": "uOAEcaPiDAFC",
        "colab": {
          "base_uri": "https://localhost:8080/"
        },
        "outputId": "6de805f0-b219-41f4-e6ab-6a750fd313f4"
      },
      "outputs": [
        {
          "output_type": "stream",
          "name": "stderr",
          "text": [
            "[nltk_data] Downloading package stopwords to /root/nltk_data...\n",
            "[nltk_data]   Package stopwords is already up-to-date!\n",
            "[nltk_data] Downloading package punkt to /root/nltk_data...\n",
            "[nltk_data]   Package punkt is already up-to-date!\n",
            "[nltk_data] Downloading package wordnet to /root/nltk_data...\n",
            "[nltk_data]   Package wordnet is already up-to-date!\n",
            "[nltk_data] Downloading package omw-1.4 to /root/nltk_data...\n",
            "[nltk_data]   Package omw-1.4 is already up-to-date!\n"
          ]
        }
      ],
      "source": [
        "import pandas as pd\n",
        "import numpy as np\n",
        "import matplotlib.pyplot as plt\n",
        "import seaborn as sns\n",
        "import re\n",
        "import nltk\n",
        "from nltk.corpus import stopwords\n",
        "from nltk.lm import preprocessing\n",
        "from sklearn.preprocessing import LabelEncoder\n",
        "from sklearn.feature_extraction.text import TfidfVectorizer\n",
        "from sklearn.model_selection import train_test_split\n",
        "from sklearn.model_selection import cross_val_score\n",
        "from sklearn.linear_model import SGDClassifier\n",
        "from sklearn import metrics\n",
        "from sklearn.metrics import precision_score\n",
        "nltk.download(\"stopwords\") # удаление стоп-слов\n",
        "nltk.download('punkt') # делит текст на список предложений\n",
        "nltk.download('wordnet') # лемматизация\n",
        "nltk.download('omw-1.4')\n",
        "%matplotlib inline"
      ]
    },
    {
      "cell_type": "code",
      "source": [
        "train_df = pd.read_csv('train.csv')"
      ],
      "metadata": {
        "id": "UWZmofnUDmeA"
      },
      "execution_count": 112,
      "outputs": []
    },
    {
      "cell_type": "code",
      "source": [
        "train_df.head()"
      ],
      "metadata": {
        "colab": {
          "base_uri": "https://localhost:8080/",
          "height": 206
        },
        "id": "WRu-Xc2VDriH",
        "outputId": "7e7da538-65cf-49ce-d56a-d9d22fbb1def"
      },
      "execution_count": 113,
      "outputs": [
        {
          "output_type": "execute_result",
          "data": {
            "text/plain": [
              "         oid      category                                               text\n",
              "0  365271984  winter_sport  Волшебные фото Виктория Поплавская ЕвгенияМедв...\n",
              "1  503385563       extreme  Возвращение в подземелье Треша 33 Эйфория тупо...\n",
              "2  146016084      football  Лучшие чешские вратари – Доминик Доминатор Гаш...\n",
              "3  933865449    boardgames  Rtokenoid Warhammer40k валрак решил нас подкор...\n",
              "4  713550145        hockey  Шестеркин затаскивает Рейнджерс в финал Восточ..."
            ],
            "text/html": [
              "\n",
              "  <div id=\"df-007712fa-0279-471d-a4aa-c438bde7a03a\">\n",
              "    <div class=\"colab-df-container\">\n",
              "      <div>\n",
              "<style scoped>\n",
              "    .dataframe tbody tr th:only-of-type {\n",
              "        vertical-align: middle;\n",
              "    }\n",
              "\n",
              "    .dataframe tbody tr th {\n",
              "        vertical-align: top;\n",
              "    }\n",
              "\n",
              "    .dataframe thead th {\n",
              "        text-align: right;\n",
              "    }\n",
              "</style>\n",
              "<table border=\"1\" class=\"dataframe\">\n",
              "  <thead>\n",
              "    <tr style=\"text-align: right;\">\n",
              "      <th></th>\n",
              "      <th>oid</th>\n",
              "      <th>category</th>\n",
              "      <th>text</th>\n",
              "    </tr>\n",
              "  </thead>\n",
              "  <tbody>\n",
              "    <tr>\n",
              "      <th>0</th>\n",
              "      <td>365271984</td>\n",
              "      <td>winter_sport</td>\n",
              "      <td>Волшебные фото Виктория Поплавская ЕвгенияМедв...</td>\n",
              "    </tr>\n",
              "    <tr>\n",
              "      <th>1</th>\n",
              "      <td>503385563</td>\n",
              "      <td>extreme</td>\n",
              "      <td>Возвращение в подземелье Треша 33 Эйфория тупо...</td>\n",
              "    </tr>\n",
              "    <tr>\n",
              "      <th>2</th>\n",
              "      <td>146016084</td>\n",
              "      <td>football</td>\n",
              "      <td>Лучшие чешские вратари – Доминик Доминатор Гаш...</td>\n",
              "    </tr>\n",
              "    <tr>\n",
              "      <th>3</th>\n",
              "      <td>933865449</td>\n",
              "      <td>boardgames</td>\n",
              "      <td>Rtokenoid Warhammer40k валрак решил нас подкор...</td>\n",
              "    </tr>\n",
              "    <tr>\n",
              "      <th>4</th>\n",
              "      <td>713550145</td>\n",
              "      <td>hockey</td>\n",
              "      <td>Шестеркин затаскивает Рейнджерс в финал Восточ...</td>\n",
              "    </tr>\n",
              "  </tbody>\n",
              "</table>\n",
              "</div>\n",
              "      <button class=\"colab-df-convert\" onclick=\"convertToInteractive('df-007712fa-0279-471d-a4aa-c438bde7a03a')\"\n",
              "              title=\"Convert this dataframe to an interactive table.\"\n",
              "              style=\"display:none;\">\n",
              "        \n",
              "  <svg xmlns=\"http://www.w3.org/2000/svg\" height=\"24px\"viewBox=\"0 0 24 24\"\n",
              "       width=\"24px\">\n",
              "    <path d=\"M0 0h24v24H0V0z\" fill=\"none\"/>\n",
              "    <path d=\"M18.56 5.44l.94 2.06.94-2.06 2.06-.94-2.06-.94-.94-2.06-.94 2.06-2.06.94zm-11 1L8.5 8.5l.94-2.06 2.06-.94-2.06-.94L8.5 2.5l-.94 2.06-2.06.94zm10 10l.94 2.06.94-2.06 2.06-.94-2.06-.94-.94-2.06-.94 2.06-2.06.94z\"/><path d=\"M17.41 7.96l-1.37-1.37c-.4-.4-.92-.59-1.43-.59-.52 0-1.04.2-1.43.59L10.3 9.45l-7.72 7.72c-.78.78-.78 2.05 0 2.83L4 21.41c.39.39.9.59 1.41.59.51 0 1.02-.2 1.41-.59l7.78-7.78 2.81-2.81c.8-.78.8-2.07 0-2.86zM5.41 20L4 18.59l7.72-7.72 1.47 1.35L5.41 20z\"/>\n",
              "  </svg>\n",
              "      </button>\n",
              "      \n",
              "  <style>\n",
              "    .colab-df-container {\n",
              "      display:flex;\n",
              "      flex-wrap:wrap;\n",
              "      gap: 12px;\n",
              "    }\n",
              "\n",
              "    .colab-df-convert {\n",
              "      background-color: #E8F0FE;\n",
              "      border: none;\n",
              "      border-radius: 50%;\n",
              "      cursor: pointer;\n",
              "      display: none;\n",
              "      fill: #1967D2;\n",
              "      height: 32px;\n",
              "      padding: 0 0 0 0;\n",
              "      width: 32px;\n",
              "    }\n",
              "\n",
              "    .colab-df-convert:hover {\n",
              "      background-color: #E2EBFA;\n",
              "      box-shadow: 0px 1px 2px rgba(60, 64, 67, 0.3), 0px 1px 3px 1px rgba(60, 64, 67, 0.15);\n",
              "      fill: #174EA6;\n",
              "    }\n",
              "\n",
              "    [theme=dark] .colab-df-convert {\n",
              "      background-color: #3B4455;\n",
              "      fill: #D2E3FC;\n",
              "    }\n",
              "\n",
              "    [theme=dark] .colab-df-convert:hover {\n",
              "      background-color: #434B5C;\n",
              "      box-shadow: 0px 1px 3px 1px rgba(0, 0, 0, 0.15);\n",
              "      filter: drop-shadow(0px 1px 2px rgba(0, 0, 0, 0.3));\n",
              "      fill: #FFFFFF;\n",
              "    }\n",
              "  </style>\n",
              "\n",
              "      <script>\n",
              "        const buttonEl =\n",
              "          document.querySelector('#df-007712fa-0279-471d-a4aa-c438bde7a03a button.colab-df-convert');\n",
              "        buttonEl.style.display =\n",
              "          google.colab.kernel.accessAllowed ? 'block' : 'none';\n",
              "\n",
              "        async function convertToInteractive(key) {\n",
              "          const element = document.querySelector('#df-007712fa-0279-471d-a4aa-c438bde7a03a');\n",
              "          const dataTable =\n",
              "            await google.colab.kernel.invokeFunction('convertToInteractive',\n",
              "                                                     [key], {});\n",
              "          if (!dataTable) return;\n",
              "\n",
              "          const docLinkHtml = 'Like what you see? Visit the ' +\n",
              "            '<a target=\"_blank\" href=https://colab.research.google.com/notebooks/data_table.ipynb>data table notebook</a>'\n",
              "            + ' to learn more about interactive tables.';\n",
              "          element.innerHTML = '';\n",
              "          dataTable['output_type'] = 'display_data';\n",
              "          await google.colab.output.renderOutput(dataTable, element);\n",
              "          const docLink = document.createElement('div');\n",
              "          docLink.innerHTML = docLinkHtml;\n",
              "          element.appendChild(docLink);\n",
              "        }\n",
              "      </script>\n",
              "    </div>\n",
              "  </div>\n",
              "  "
            ]
          },
          "metadata": {},
          "execution_count": 113
        }
      ]
    },
    {
      "cell_type": "code",
      "source": [
        "train_df[train_df['oid'] == 365271984] #Взглянем на комментарии для одного пользователя"
      ],
      "metadata": {
        "colab": {
          "base_uri": "https://localhost:8080/",
          "height": 363
        },
        "id": "t1BNMy7blvxt",
        "outputId": "53c7c254-01de-4586-fd77-713eb7c1cb89"
      },
      "execution_count": 114,
      "outputs": [
        {
          "output_type": "execute_result",
          "data": {
            "text/plain": [
              "             oid      category  \\\n",
              "0      365271984  winter_sport   \n",
              "5802   365271984  winter_sport   \n",
              "8529   365271984  winter_sport   \n",
              "9795   365271984  winter_sport   \n",
              "9813   365271984  winter_sport   \n",
              "13013  365271984  winter_sport   \n",
              "15301  365271984  winter_sport   \n",
              "23211  365271984  winter_sport   \n",
              "24225  365271984  winter_sport   \n",
              "24972  365271984  winter_sport   \n",
              "\n",
              "                                                    text  \n",
              "0      Волшебные фото Виктория Поплавская ЕвгенияМедв...  \n",
              "5802   Саша Трусова о Жене Моховая 9 ЕвгенияМедведева...  \n",
              "8529   24 апреля 18 55 Первый канал ️ ЕвгенияМедведев...  \n",
              "9795   По заявкам публики Евгения Медведева и Торнике...  \n",
              "9813   Кружочки с шоу Влюбленные в фигурное катание и...  \n",
              "13013  Женя на хоккее ЕвгенияМедведева Evgentokenoid ...  \n",
              "15301  Сегодня Женя комментировала короткую программу...  \n",
              "23211  Последний совместный номер Жени Медведевой и Д...  \n",
              "24225  Женя рассказывает о первом дне в Карелии ️ YAP...  \n",
              "24972  Еще немного видео с ребятами А теперь внимание...  "
            ],
            "text/html": [
              "\n",
              "  <div id=\"df-f6e8dc75-a06f-432c-8f17-7dbcd657248a\">\n",
              "    <div class=\"colab-df-container\">\n",
              "      <div>\n",
              "<style scoped>\n",
              "    .dataframe tbody tr th:only-of-type {\n",
              "        vertical-align: middle;\n",
              "    }\n",
              "\n",
              "    .dataframe tbody tr th {\n",
              "        vertical-align: top;\n",
              "    }\n",
              "\n",
              "    .dataframe thead th {\n",
              "        text-align: right;\n",
              "    }\n",
              "</style>\n",
              "<table border=\"1\" class=\"dataframe\">\n",
              "  <thead>\n",
              "    <tr style=\"text-align: right;\">\n",
              "      <th></th>\n",
              "      <th>oid</th>\n",
              "      <th>category</th>\n",
              "      <th>text</th>\n",
              "    </tr>\n",
              "  </thead>\n",
              "  <tbody>\n",
              "    <tr>\n",
              "      <th>0</th>\n",
              "      <td>365271984</td>\n",
              "      <td>winter_sport</td>\n",
              "      <td>Волшебные фото Виктория Поплавская ЕвгенияМедв...</td>\n",
              "    </tr>\n",
              "    <tr>\n",
              "      <th>5802</th>\n",
              "      <td>365271984</td>\n",
              "      <td>winter_sport</td>\n",
              "      <td>Саша Трусова о Жене Моховая 9 ЕвгенияМедведева...</td>\n",
              "    </tr>\n",
              "    <tr>\n",
              "      <th>8529</th>\n",
              "      <td>365271984</td>\n",
              "      <td>winter_sport</td>\n",
              "      <td>24 апреля 18 55 Первый канал ️ ЕвгенияМедведев...</td>\n",
              "    </tr>\n",
              "    <tr>\n",
              "      <th>9795</th>\n",
              "      <td>365271984</td>\n",
              "      <td>winter_sport</td>\n",
              "      <td>По заявкам публики Евгения Медведева и Торнике...</td>\n",
              "    </tr>\n",
              "    <tr>\n",
              "      <th>9813</th>\n",
              "      <td>365271984</td>\n",
              "      <td>winter_sport</td>\n",
              "      <td>Кружочки с шоу Влюбленные в фигурное катание и...</td>\n",
              "    </tr>\n",
              "    <tr>\n",
              "      <th>13013</th>\n",
              "      <td>365271984</td>\n",
              "      <td>winter_sport</td>\n",
              "      <td>Женя на хоккее ЕвгенияМедведева Evgentokenoid ...</td>\n",
              "    </tr>\n",
              "    <tr>\n",
              "      <th>15301</th>\n",
              "      <td>365271984</td>\n",
              "      <td>winter_sport</td>\n",
              "      <td>Сегодня Женя комментировала короткую программу...</td>\n",
              "    </tr>\n",
              "    <tr>\n",
              "      <th>23211</th>\n",
              "      <td>365271984</td>\n",
              "      <td>winter_sport</td>\n",
              "      <td>Последний совместный номер Жени Медведевой и Д...</td>\n",
              "    </tr>\n",
              "    <tr>\n",
              "      <th>24225</th>\n",
              "      <td>365271984</td>\n",
              "      <td>winter_sport</td>\n",
              "      <td>Женя рассказывает о первом дне в Карелии ️ YAP...</td>\n",
              "    </tr>\n",
              "    <tr>\n",
              "      <th>24972</th>\n",
              "      <td>365271984</td>\n",
              "      <td>winter_sport</td>\n",
              "      <td>Еще немного видео с ребятами А теперь внимание...</td>\n",
              "    </tr>\n",
              "  </tbody>\n",
              "</table>\n",
              "</div>\n",
              "      <button class=\"colab-df-convert\" onclick=\"convertToInteractive('df-f6e8dc75-a06f-432c-8f17-7dbcd657248a')\"\n",
              "              title=\"Convert this dataframe to an interactive table.\"\n",
              "              style=\"display:none;\">\n",
              "        \n",
              "  <svg xmlns=\"http://www.w3.org/2000/svg\" height=\"24px\"viewBox=\"0 0 24 24\"\n",
              "       width=\"24px\">\n",
              "    <path d=\"M0 0h24v24H0V0z\" fill=\"none\"/>\n",
              "    <path d=\"M18.56 5.44l.94 2.06.94-2.06 2.06-.94-2.06-.94-.94-2.06-.94 2.06-2.06.94zm-11 1L8.5 8.5l.94-2.06 2.06-.94-2.06-.94L8.5 2.5l-.94 2.06-2.06.94zm10 10l.94 2.06.94-2.06 2.06-.94-2.06-.94-.94-2.06-.94 2.06-2.06.94z\"/><path d=\"M17.41 7.96l-1.37-1.37c-.4-.4-.92-.59-1.43-.59-.52 0-1.04.2-1.43.59L10.3 9.45l-7.72 7.72c-.78.78-.78 2.05 0 2.83L4 21.41c.39.39.9.59 1.41.59.51 0 1.02-.2 1.41-.59l7.78-7.78 2.81-2.81c.8-.78.8-2.07 0-2.86zM5.41 20L4 18.59l7.72-7.72 1.47 1.35L5.41 20z\"/>\n",
              "  </svg>\n",
              "      </button>\n",
              "      \n",
              "  <style>\n",
              "    .colab-df-container {\n",
              "      display:flex;\n",
              "      flex-wrap:wrap;\n",
              "      gap: 12px;\n",
              "    }\n",
              "\n",
              "    .colab-df-convert {\n",
              "      background-color: #E8F0FE;\n",
              "      border: none;\n",
              "      border-radius: 50%;\n",
              "      cursor: pointer;\n",
              "      display: none;\n",
              "      fill: #1967D2;\n",
              "      height: 32px;\n",
              "      padding: 0 0 0 0;\n",
              "      width: 32px;\n",
              "    }\n",
              "\n",
              "    .colab-df-convert:hover {\n",
              "      background-color: #E2EBFA;\n",
              "      box-shadow: 0px 1px 2px rgba(60, 64, 67, 0.3), 0px 1px 3px 1px rgba(60, 64, 67, 0.15);\n",
              "      fill: #174EA6;\n",
              "    }\n",
              "\n",
              "    [theme=dark] .colab-df-convert {\n",
              "      background-color: #3B4455;\n",
              "      fill: #D2E3FC;\n",
              "    }\n",
              "\n",
              "    [theme=dark] .colab-df-convert:hover {\n",
              "      background-color: #434B5C;\n",
              "      box-shadow: 0px 1px 3px 1px rgba(0, 0, 0, 0.15);\n",
              "      filter: drop-shadow(0px 1px 2px rgba(0, 0, 0, 0.3));\n",
              "      fill: #FFFFFF;\n",
              "    }\n",
              "  </style>\n",
              "\n",
              "      <script>\n",
              "        const buttonEl =\n",
              "          document.querySelector('#df-f6e8dc75-a06f-432c-8f17-7dbcd657248a button.colab-df-convert');\n",
              "        buttonEl.style.display =\n",
              "          google.colab.kernel.accessAllowed ? 'block' : 'none';\n",
              "\n",
              "        async function convertToInteractive(key) {\n",
              "          const element = document.querySelector('#df-f6e8dc75-a06f-432c-8f17-7dbcd657248a');\n",
              "          const dataTable =\n",
              "            await google.colab.kernel.invokeFunction('convertToInteractive',\n",
              "                                                     [key], {});\n",
              "          if (!dataTable) return;\n",
              "\n",
              "          const docLinkHtml = 'Like what you see? Visit the ' +\n",
              "            '<a target=\"_blank\" href=https://colab.research.google.com/notebooks/data_table.ipynb>data table notebook</a>'\n",
              "            + ' to learn more about interactive tables.';\n",
              "          element.innerHTML = '';\n",
              "          dataTable['output_type'] = 'display_data';\n",
              "          await google.colab.output.renderOutput(dataTable, element);\n",
              "          const docLink = document.createElement('div');\n",
              "          docLink.innerHTML = docLinkHtml;\n",
              "          element.appendChild(docLink);\n",
              "        }\n",
              "      </script>\n",
              "    </div>\n",
              "  </div>\n",
              "  "
            ]
          },
          "metadata": {},
          "execution_count": 114
        }
      ]
    },
    {
      "cell_type": "code",
      "source": [
        "test_df = pd.read_csv('test.csv')\n",
        "test_df['text'].iloc[6]"
      ],
      "metadata": {
        "colab": {
          "base_uri": "https://localhost:8080/",
          "height": 70
        },
        "id": "jOJXRRCED6jR",
        "outputId": "332af5df-3303-466a-b30f-6726a6f001bd"
      },
      "execution_count": 115,
      "outputs": [
        {
          "output_type": "execute_result",
          "data": {
            "text/plain": [
              "'Уже сейчас ты можешь оформить предзаказ фирменной футболки Дрифт Юг Matstokenoid и получить скидку 10 33 А уже 9 октября на финальном этапе в городе Ростов на Дону вы сможешь эту самую футболку забрать 33 Мерч можно выбрать в черном и белом цвете кардинально разный цвет и настрой. Футболки унисекс заказал себе прихвати и другу подруге. Цена – 2500₽ Со скидкой 2250₽ Тираж ограничен 33 Осталось всего 67 штук.'"
            ],
            "application/vnd.google.colaboratory.intrinsic+json": {
              "type": "string"
            }
          },
          "metadata": {},
          "execution_count": 115
        }
      ]
    },
    {
      "cell_type": "code",
      "source": [
        "test_df.head()"
      ],
      "metadata": {
        "colab": {
          "base_uri": "https://localhost:8080/",
          "height": 206
        },
        "id": "2aQChhT6EPRe",
        "outputId": "d7ff1d40-468e-40a8-87e5-b6d7ccac07c6"
      },
      "execution_count": 116,
      "outputs": [
        {
          "output_type": "execute_result",
          "data": {
            "text/plain": [
              "         oid                                               text\n",
              "0  749208109  СПОЧНО СООБЩЕСТВО ПРОДАЕТСЯ ЗА 1300Р ЗА ПОКУПК...\n",
              "1  452466036  Естественное восстановление после тяжелой трен...\n",
              "2  161038103  Тема нарядов продолжается Одна из британских ж...\n",
              "3  663621910  Привет Избранный. Ты спрашиваешь себя ЧТО здес...\n",
              "4  566255305  КОРОЛЬ ПЯТИСОТНИКОВ В ДЕЛЕ Андрей Рублев успеш..."
            ],
            "text/html": [
              "\n",
              "  <div id=\"df-2f4e6335-1b04-413a-a9c8-519d1c1cbef0\">\n",
              "    <div class=\"colab-df-container\">\n",
              "      <div>\n",
              "<style scoped>\n",
              "    .dataframe tbody tr th:only-of-type {\n",
              "        vertical-align: middle;\n",
              "    }\n",
              "\n",
              "    .dataframe tbody tr th {\n",
              "        vertical-align: top;\n",
              "    }\n",
              "\n",
              "    .dataframe thead th {\n",
              "        text-align: right;\n",
              "    }\n",
              "</style>\n",
              "<table border=\"1\" class=\"dataframe\">\n",
              "  <thead>\n",
              "    <tr style=\"text-align: right;\">\n",
              "      <th></th>\n",
              "      <th>oid</th>\n",
              "      <th>text</th>\n",
              "    </tr>\n",
              "  </thead>\n",
              "  <tbody>\n",
              "    <tr>\n",
              "      <th>0</th>\n",
              "      <td>749208109</td>\n",
              "      <td>СПОЧНО СООБЩЕСТВО ПРОДАЕТСЯ ЗА 1300Р ЗА ПОКУПК...</td>\n",
              "    </tr>\n",
              "    <tr>\n",
              "      <th>1</th>\n",
              "      <td>452466036</td>\n",
              "      <td>Естественное восстановление после тяжелой трен...</td>\n",
              "    </tr>\n",
              "    <tr>\n",
              "      <th>2</th>\n",
              "      <td>161038103</td>\n",
              "      <td>Тема нарядов продолжается Одна из британских ж...</td>\n",
              "    </tr>\n",
              "    <tr>\n",
              "      <th>3</th>\n",
              "      <td>663621910</td>\n",
              "      <td>Привет Избранный. Ты спрашиваешь себя ЧТО здес...</td>\n",
              "    </tr>\n",
              "    <tr>\n",
              "      <th>4</th>\n",
              "      <td>566255305</td>\n",
              "      <td>КОРОЛЬ ПЯТИСОТНИКОВ В ДЕЛЕ Андрей Рублев успеш...</td>\n",
              "    </tr>\n",
              "  </tbody>\n",
              "</table>\n",
              "</div>\n",
              "      <button class=\"colab-df-convert\" onclick=\"convertToInteractive('df-2f4e6335-1b04-413a-a9c8-519d1c1cbef0')\"\n",
              "              title=\"Convert this dataframe to an interactive table.\"\n",
              "              style=\"display:none;\">\n",
              "        \n",
              "  <svg xmlns=\"http://www.w3.org/2000/svg\" height=\"24px\"viewBox=\"0 0 24 24\"\n",
              "       width=\"24px\">\n",
              "    <path d=\"M0 0h24v24H0V0z\" fill=\"none\"/>\n",
              "    <path d=\"M18.56 5.44l.94 2.06.94-2.06 2.06-.94-2.06-.94-.94-2.06-.94 2.06-2.06.94zm-11 1L8.5 8.5l.94-2.06 2.06-.94-2.06-.94L8.5 2.5l-.94 2.06-2.06.94zm10 10l.94 2.06.94-2.06 2.06-.94-2.06-.94-.94-2.06-.94 2.06-2.06.94z\"/><path d=\"M17.41 7.96l-1.37-1.37c-.4-.4-.92-.59-1.43-.59-.52 0-1.04.2-1.43.59L10.3 9.45l-7.72 7.72c-.78.78-.78 2.05 0 2.83L4 21.41c.39.39.9.59 1.41.59.51 0 1.02-.2 1.41-.59l7.78-7.78 2.81-2.81c.8-.78.8-2.07 0-2.86zM5.41 20L4 18.59l7.72-7.72 1.47 1.35L5.41 20z\"/>\n",
              "  </svg>\n",
              "      </button>\n",
              "      \n",
              "  <style>\n",
              "    .colab-df-container {\n",
              "      display:flex;\n",
              "      flex-wrap:wrap;\n",
              "      gap: 12px;\n",
              "    }\n",
              "\n",
              "    .colab-df-convert {\n",
              "      background-color: #E8F0FE;\n",
              "      border: none;\n",
              "      border-radius: 50%;\n",
              "      cursor: pointer;\n",
              "      display: none;\n",
              "      fill: #1967D2;\n",
              "      height: 32px;\n",
              "      padding: 0 0 0 0;\n",
              "      width: 32px;\n",
              "    }\n",
              "\n",
              "    .colab-df-convert:hover {\n",
              "      background-color: #E2EBFA;\n",
              "      box-shadow: 0px 1px 2px rgba(60, 64, 67, 0.3), 0px 1px 3px 1px rgba(60, 64, 67, 0.15);\n",
              "      fill: #174EA6;\n",
              "    }\n",
              "\n",
              "    [theme=dark] .colab-df-convert {\n",
              "      background-color: #3B4455;\n",
              "      fill: #D2E3FC;\n",
              "    }\n",
              "\n",
              "    [theme=dark] .colab-df-convert:hover {\n",
              "      background-color: #434B5C;\n",
              "      box-shadow: 0px 1px 3px 1px rgba(0, 0, 0, 0.15);\n",
              "      filter: drop-shadow(0px 1px 2px rgba(0, 0, 0, 0.3));\n",
              "      fill: #FFFFFF;\n",
              "    }\n",
              "  </style>\n",
              "\n",
              "      <script>\n",
              "        const buttonEl =\n",
              "          document.querySelector('#df-2f4e6335-1b04-413a-a9c8-519d1c1cbef0 button.colab-df-convert');\n",
              "        buttonEl.style.display =\n",
              "          google.colab.kernel.accessAllowed ? 'block' : 'none';\n",
              "\n",
              "        async function convertToInteractive(key) {\n",
              "          const element = document.querySelector('#df-2f4e6335-1b04-413a-a9c8-519d1c1cbef0');\n",
              "          const dataTable =\n",
              "            await google.colab.kernel.invokeFunction('convertToInteractive',\n",
              "                                                     [key], {});\n",
              "          if (!dataTable) return;\n",
              "\n",
              "          const docLinkHtml = 'Like what you see? Visit the ' +\n",
              "            '<a target=\"_blank\" href=https://colab.research.google.com/notebooks/data_table.ipynb>data table notebook</a>'\n",
              "            + ' to learn more about interactive tables.';\n",
              "          element.innerHTML = '';\n",
              "          dataTable['output_type'] = 'display_data';\n",
              "          await google.colab.output.renderOutput(dataTable, element);\n",
              "          const docLink = document.createElement('div');\n",
              "          docLink.innerHTML = docLinkHtml;\n",
              "          element.appendChild(docLink);\n",
              "        }\n",
              "      </script>\n",
              "    </div>\n",
              "  </div>\n",
              "  "
            ]
          },
          "metadata": {},
          "execution_count": 116
        }
      ]
    },
    {
      "cell_type": "code",
      "source": [
        "train_df.shape"
      ],
      "metadata": {
        "colab": {
          "base_uri": "https://localhost:8080/"
        },
        "id": "w1vRBrn3EfqX",
        "outputId": "f483f74e-0e63-4f94-89ed-e9ab6cb07581"
      },
      "execution_count": 117,
      "outputs": [
        {
          "output_type": "execute_result",
          "data": {
            "text/plain": [
              "(38740, 3)"
            ]
          },
          "metadata": {},
          "execution_count": 117
        }
      ]
    },
    {
      "cell_type": "code",
      "source": [
        "sample = pd.read_csv('sample_submission.csv')"
      ],
      "metadata": {
        "id": "2gb3JYW0x__i"
      },
      "execution_count": 118,
      "outputs": []
    },
    {
      "cell_type": "code",
      "source": [
        "sample"
      ],
      "metadata": {
        "colab": {
          "base_uri": "https://localhost:8080/",
          "height": 424
        },
        "id": "BwvCUTWh0S7J",
        "outputId": "e33ac2df-3dcb-4008-dea9-f67c278baff0"
      },
      "execution_count": 119,
      "outputs": [
        {
          "output_type": "execute_result",
          "data": {
            "text/plain": [
              "            oid    category\n",
              "0       1622114   athletics\n",
              "1       1663817   autosport\n",
              "2       3174332  basketball\n",
              "3       3469228     extreme\n",
              "4       3905302  boardgames\n",
              "...         ...         ...\n",
              "2621  998309713      esport\n",
              "2622  998565619      esport\n",
              "2623  999112505  boardgames\n",
              "2624  999361308      tennis\n",
              "2625  999374432    football\n",
              "\n",
              "[2626 rows x 2 columns]"
            ],
            "text/html": [
              "\n",
              "  <div id=\"df-4c6785cd-7e9a-4131-b0b5-9f375c6c2f47\">\n",
              "    <div class=\"colab-df-container\">\n",
              "      <div>\n",
              "<style scoped>\n",
              "    .dataframe tbody tr th:only-of-type {\n",
              "        vertical-align: middle;\n",
              "    }\n",
              "\n",
              "    .dataframe tbody tr th {\n",
              "        vertical-align: top;\n",
              "    }\n",
              "\n",
              "    .dataframe thead th {\n",
              "        text-align: right;\n",
              "    }\n",
              "</style>\n",
              "<table border=\"1\" class=\"dataframe\">\n",
              "  <thead>\n",
              "    <tr style=\"text-align: right;\">\n",
              "      <th></th>\n",
              "      <th>oid</th>\n",
              "      <th>category</th>\n",
              "    </tr>\n",
              "  </thead>\n",
              "  <tbody>\n",
              "    <tr>\n",
              "      <th>0</th>\n",
              "      <td>1622114</td>\n",
              "      <td>athletics</td>\n",
              "    </tr>\n",
              "    <tr>\n",
              "      <th>1</th>\n",
              "      <td>1663817</td>\n",
              "      <td>autosport</td>\n",
              "    </tr>\n",
              "    <tr>\n",
              "      <th>2</th>\n",
              "      <td>3174332</td>\n",
              "      <td>basketball</td>\n",
              "    </tr>\n",
              "    <tr>\n",
              "      <th>3</th>\n",
              "      <td>3469228</td>\n",
              "      <td>extreme</td>\n",
              "    </tr>\n",
              "    <tr>\n",
              "      <th>4</th>\n",
              "      <td>3905302</td>\n",
              "      <td>boardgames</td>\n",
              "    </tr>\n",
              "    <tr>\n",
              "      <th>...</th>\n",
              "      <td>...</td>\n",
              "      <td>...</td>\n",
              "    </tr>\n",
              "    <tr>\n",
              "      <th>2621</th>\n",
              "      <td>998309713</td>\n",
              "      <td>esport</td>\n",
              "    </tr>\n",
              "    <tr>\n",
              "      <th>2622</th>\n",
              "      <td>998565619</td>\n",
              "      <td>esport</td>\n",
              "    </tr>\n",
              "    <tr>\n",
              "      <th>2623</th>\n",
              "      <td>999112505</td>\n",
              "      <td>boardgames</td>\n",
              "    </tr>\n",
              "    <tr>\n",
              "      <th>2624</th>\n",
              "      <td>999361308</td>\n",
              "      <td>tennis</td>\n",
              "    </tr>\n",
              "    <tr>\n",
              "      <th>2625</th>\n",
              "      <td>999374432</td>\n",
              "      <td>football</td>\n",
              "    </tr>\n",
              "  </tbody>\n",
              "</table>\n",
              "<p>2626 rows × 2 columns</p>\n",
              "</div>\n",
              "      <button class=\"colab-df-convert\" onclick=\"convertToInteractive('df-4c6785cd-7e9a-4131-b0b5-9f375c6c2f47')\"\n",
              "              title=\"Convert this dataframe to an interactive table.\"\n",
              "              style=\"display:none;\">\n",
              "        \n",
              "  <svg xmlns=\"http://www.w3.org/2000/svg\" height=\"24px\"viewBox=\"0 0 24 24\"\n",
              "       width=\"24px\">\n",
              "    <path d=\"M0 0h24v24H0V0z\" fill=\"none\"/>\n",
              "    <path d=\"M18.56 5.44l.94 2.06.94-2.06 2.06-.94-2.06-.94-.94-2.06-.94 2.06-2.06.94zm-11 1L8.5 8.5l.94-2.06 2.06-.94-2.06-.94L8.5 2.5l-.94 2.06-2.06.94zm10 10l.94 2.06.94-2.06 2.06-.94-2.06-.94-.94-2.06-.94 2.06-2.06.94z\"/><path d=\"M17.41 7.96l-1.37-1.37c-.4-.4-.92-.59-1.43-.59-.52 0-1.04.2-1.43.59L10.3 9.45l-7.72 7.72c-.78.78-.78 2.05 0 2.83L4 21.41c.39.39.9.59 1.41.59.51 0 1.02-.2 1.41-.59l7.78-7.78 2.81-2.81c.8-.78.8-2.07 0-2.86zM5.41 20L4 18.59l7.72-7.72 1.47 1.35L5.41 20z\"/>\n",
              "  </svg>\n",
              "      </button>\n",
              "      \n",
              "  <style>\n",
              "    .colab-df-container {\n",
              "      display:flex;\n",
              "      flex-wrap:wrap;\n",
              "      gap: 12px;\n",
              "    }\n",
              "\n",
              "    .colab-df-convert {\n",
              "      background-color: #E8F0FE;\n",
              "      border: none;\n",
              "      border-radius: 50%;\n",
              "      cursor: pointer;\n",
              "      display: none;\n",
              "      fill: #1967D2;\n",
              "      height: 32px;\n",
              "      padding: 0 0 0 0;\n",
              "      width: 32px;\n",
              "    }\n",
              "\n",
              "    .colab-df-convert:hover {\n",
              "      background-color: #E2EBFA;\n",
              "      box-shadow: 0px 1px 2px rgba(60, 64, 67, 0.3), 0px 1px 3px 1px rgba(60, 64, 67, 0.15);\n",
              "      fill: #174EA6;\n",
              "    }\n",
              "\n",
              "    [theme=dark] .colab-df-convert {\n",
              "      background-color: #3B4455;\n",
              "      fill: #D2E3FC;\n",
              "    }\n",
              "\n",
              "    [theme=dark] .colab-df-convert:hover {\n",
              "      background-color: #434B5C;\n",
              "      box-shadow: 0px 1px 3px 1px rgba(0, 0, 0, 0.15);\n",
              "      filter: drop-shadow(0px 1px 2px rgba(0, 0, 0, 0.3));\n",
              "      fill: #FFFFFF;\n",
              "    }\n",
              "  </style>\n",
              "\n",
              "      <script>\n",
              "        const buttonEl =\n",
              "          document.querySelector('#df-4c6785cd-7e9a-4131-b0b5-9f375c6c2f47 button.colab-df-convert');\n",
              "        buttonEl.style.display =\n",
              "          google.colab.kernel.accessAllowed ? 'block' : 'none';\n",
              "\n",
              "        async function convertToInteractive(key) {\n",
              "          const element = document.querySelector('#df-4c6785cd-7e9a-4131-b0b5-9f375c6c2f47');\n",
              "          const dataTable =\n",
              "            await google.colab.kernel.invokeFunction('convertToInteractive',\n",
              "                                                     [key], {});\n",
              "          if (!dataTable) return;\n",
              "\n",
              "          const docLinkHtml = 'Like what you see? Visit the ' +\n",
              "            '<a target=\"_blank\" href=https://colab.research.google.com/notebooks/data_table.ipynb>data table notebook</a>'\n",
              "            + ' to learn more about interactive tables.';\n",
              "          element.innerHTML = '';\n",
              "          dataTable['output_type'] = 'display_data';\n",
              "          await google.colab.output.renderOutput(dataTable, element);\n",
              "          const docLink = document.createElement('div');\n",
              "          docLink.innerHTML = docLinkHtml;\n",
              "          element.appendChild(docLink);\n",
              "        }\n",
              "      </script>\n",
              "    </div>\n",
              "  </div>\n",
              "  "
            ]
          },
          "metadata": {},
          "execution_count": 119
        }
      ]
    },
    {
      "cell_type": "code",
      "source": [
        "test_df.shape"
      ],
      "metadata": {
        "colab": {
          "base_uri": "https://localhost:8080/"
        },
        "id": "wntpBx_jEiAo",
        "outputId": "2effcbd2-b8b3-43ba-b3a2-006082e180c4"
      },
      "execution_count": 120,
      "outputs": [
        {
          "output_type": "execute_result",
          "data": {
            "text/plain": [
              "(26260, 2)"
            ]
          },
          "metadata": {},
          "execution_count": 120
        }
      ]
    },
    {
      "cell_type": "code",
      "source": [
        "train_df.isna().sum() # Изучаем данные на пропуски"
      ],
      "metadata": {
        "colab": {
          "base_uri": "https://localhost:8080/"
        },
        "id": "EDvJOqjtEjV1",
        "outputId": "914dcd93-bf79-4d92-b7d4-de3016669ae8"
      },
      "execution_count": 121,
      "outputs": [
        {
          "output_type": "execute_result",
          "data": {
            "text/plain": [
              "oid         0\n",
              "category    0\n",
              "text        0\n",
              "dtype: int64"
            ]
          },
          "metadata": {},
          "execution_count": 121
        }
      ]
    },
    {
      "cell_type": "code",
      "source": [
        "test_df.isna().sum()"
      ],
      "metadata": {
        "colab": {
          "base_uri": "https://localhost:8080/"
        },
        "id": "T797uDOfEm_3",
        "outputId": "cd4f21f0-ba3c-42e5-abeb-2369d3aaa3af"
      },
      "execution_count": 122,
      "outputs": [
        {
          "output_type": "execute_result",
          "data": {
            "text/plain": [
              "oid     0\n",
              "text    0\n",
              "dtype: int64"
            ]
          },
          "metadata": {},
          "execution_count": 122
        }
      ]
    },
    {
      "cell_type": "code",
      "source": [
        "train_df['category'].value_counts()"
      ],
      "metadata": {
        "colab": {
          "base_uri": "https://localhost:8080/"
        },
        "id": "DLwfRhAQEp6k",
        "outputId": "70a2993a-bfc1-4be7-b18f-ae13ecebb681"
      },
      "execution_count": 123,
      "outputs": [
        {
          "output_type": "execute_result",
          "data": {
            "text/plain": [
              "autosport       3160\n",
              "extreme         3110\n",
              "martial_arts    3050\n",
              "motosport       3030\n",
              "boardgames      3020\n",
              "tennis          3000\n",
              "esport          2990\n",
              "athletics       2970\n",
              "hockey          2950\n",
              "volleyball      2950\n",
              "football        2860\n",
              "basketball      2850\n",
              "winter_sport    2800\n",
              "Name: category, dtype: int64"
            ]
          },
          "metadata": {},
          "execution_count": 123
        }
      ]
    },
    {
      "cell_type": "code",
      "source": [
        "train_df['text']"
      ],
      "metadata": {
        "id": "hZknhZ7dE2Dx",
        "outputId": "79b57c96-c53d-421d-e3a5-488847ba860e",
        "colab": {
          "base_uri": "https://localhost:8080/"
        }
      },
      "execution_count": 124,
      "outputs": [
        {
          "output_type": "execute_result",
          "data": {
            "text/plain": [
              "0        Волшебные фото Виктория Поплавская ЕвгенияМедв...\n",
              "1        Возвращение в подземелье Треша 33 Эйфория тупо...\n",
              "2        Лучшие чешские вратари – Доминик Доминатор Гаш...\n",
              "3        Rtokenoid Warhammer40k валрак решил нас подкор...\n",
              "4        Шестеркин затаскивает Рейнджерс в финал Восточ...\n",
              "                               ...                        \n",
              "38735    8 битная буря снова накрыла пикселями автомоби...\n",
              "38736    Ира Сидоркова объясняет как сказалась на ее ма...\n",
              "38737    24 я ракетка мира хорват Марин Чилич обыграл и...\n",
              "38738    Стал известен календарь мужской сборной России...\n",
              "38739    Первенство ВХЛ. Первый этап Динамо Алтай Бн ЦС...\n",
              "Name: text, Length: 38740, dtype: object"
            ]
          },
          "metadata": {},
          "execution_count": 124
        }
      ]
    },
    {
      "cell_type": "code",
      "source": [
        "y = train_df['category'].value_counts()"
      ],
      "metadata": {
        "id": "sx07nL18sy5S"
      },
      "execution_count": 125,
      "outputs": []
    },
    {
      "cell_type": "code",
      "source": [
        "stop = stopwords.words('russian')"
      ],
      "metadata": {
        "id": "Ar1ebJ-KWHgF"
      },
      "execution_count": 126,
      "outputs": []
    },
    {
      "cell_type": "code",
      "source": [
        "lemmatize = nltk.WordNetLemmatizer()"
      ],
      "metadata": {
        "id": "oxa9TLQ_Kuhh"
      },
      "execution_count": 127,
      "outputs": []
    },
    {
      "cell_type": "code",
      "source": [
        "def preproc(df)->list:\n",
        "  new_text = list()\n",
        "  for row in df.text:\n",
        "      text = re.sub(\"[^а-яА-Я]\",\" \",row)\n",
        "      text = nltk.word_tokenize(text,language = \"russian\")\n",
        "      texts = [lemmatize.lemmatize(word) for word in text]\n",
        "      texts = \" \".join(texts) \n",
        "      new_text.append(texts)\n",
        "  return new_text"
      ],
      "metadata": {
        "id": "okTQXrZ2Kb1P"
      },
      "execution_count": 128,
      "outputs": []
    },
    {
      "cell_type": "code",
      "source": [
        "train_text = preproc(train_df)"
      ],
      "metadata": {
        "id": "txnnBDYl9ZNr"
      },
      "execution_count": 129,
      "outputs": []
    },
    {
      "cell_type": "code",
      "source": [
        "print(f'Длина списка:{len(train_text)}')"
      ],
      "metadata": {
        "colab": {
          "base_uri": "https://localhost:8080/"
        },
        "id": "u9pCLmIu-o1Z",
        "outputId": "5df3db84-45db-4bab-89ff-255bdac3c33b"
      },
      "execution_count": 130,
      "outputs": [
        {
          "output_type": "stream",
          "name": "stdout",
          "text": [
            "Длина списка:38740\n"
          ]
        }
      ]
    },
    {
      "cell_type": "code",
      "source": [
        "encode = LabelEncoder() #Кодируем колонку 'category'\n",
        "train_df['category'] = encode.fit_transform(train_df['category'])"
      ],
      "metadata": {
        "id": "LMDe1sOvM9Po"
      },
      "execution_count": 131,
      "outputs": []
    },
    {
      "cell_type": "code",
      "source": [
        "train_df"
      ],
      "metadata": {
        "colab": {
          "base_uri": "https://localhost:8080/",
          "height": 424
        },
        "id": "KfpIZDeqO0-l",
        "outputId": "ca1b86d1-216a-4719-e7b5-e6a227efd20a"
      },
      "execution_count": 132,
      "outputs": [
        {
          "output_type": "execute_result",
          "data": {
            "text/plain": [
              "             oid  category                                               text\n",
              "0      365271984        12  Волшебные фото Виктория Поплавская ЕвгенияМедв...\n",
              "1      503385563         5  Возвращение в подземелье Треша 33 Эйфория тупо...\n",
              "2      146016084         6  Лучшие чешские вратари – Доминик Доминатор Гаш...\n",
              "3      933865449         3  Rtokenoid Warhammer40k валрак решил нас подкор...\n",
              "4      713550145         7  Шестеркин затаскивает Рейнджерс в финал Восточ...\n",
              "...          ...       ...                                                ...\n",
              "38735  910636962         1  8 битная буря снова накрыла пикселями автомоби...\n",
              "38736  669736851         1  Ира Сидоркова объясняет как сказалась на ее ма...\n",
              "38737  558919241        10  24 я ракетка мира хорват Марин Чилич обыграл и...\n",
              "38738  776944963        11  Стал известен календарь мужской сборной России...\n",
              "38739  577334983         7  Первенство ВХЛ. Первый этап Динамо Алтай Бн ЦС...\n",
              "\n",
              "[38740 rows x 3 columns]"
            ],
            "text/html": [
              "\n",
              "  <div id=\"df-34418eec-4e54-4d1e-b77f-5bd3e1ddfe44\">\n",
              "    <div class=\"colab-df-container\">\n",
              "      <div>\n",
              "<style scoped>\n",
              "    .dataframe tbody tr th:only-of-type {\n",
              "        vertical-align: middle;\n",
              "    }\n",
              "\n",
              "    .dataframe tbody tr th {\n",
              "        vertical-align: top;\n",
              "    }\n",
              "\n",
              "    .dataframe thead th {\n",
              "        text-align: right;\n",
              "    }\n",
              "</style>\n",
              "<table border=\"1\" class=\"dataframe\">\n",
              "  <thead>\n",
              "    <tr style=\"text-align: right;\">\n",
              "      <th></th>\n",
              "      <th>oid</th>\n",
              "      <th>category</th>\n",
              "      <th>text</th>\n",
              "    </tr>\n",
              "  </thead>\n",
              "  <tbody>\n",
              "    <tr>\n",
              "      <th>0</th>\n",
              "      <td>365271984</td>\n",
              "      <td>12</td>\n",
              "      <td>Волшебные фото Виктория Поплавская ЕвгенияМедв...</td>\n",
              "    </tr>\n",
              "    <tr>\n",
              "      <th>1</th>\n",
              "      <td>503385563</td>\n",
              "      <td>5</td>\n",
              "      <td>Возвращение в подземелье Треша 33 Эйфория тупо...</td>\n",
              "    </tr>\n",
              "    <tr>\n",
              "      <th>2</th>\n",
              "      <td>146016084</td>\n",
              "      <td>6</td>\n",
              "      <td>Лучшие чешские вратари – Доминик Доминатор Гаш...</td>\n",
              "    </tr>\n",
              "    <tr>\n",
              "      <th>3</th>\n",
              "      <td>933865449</td>\n",
              "      <td>3</td>\n",
              "      <td>Rtokenoid Warhammer40k валрак решил нас подкор...</td>\n",
              "    </tr>\n",
              "    <tr>\n",
              "      <th>4</th>\n",
              "      <td>713550145</td>\n",
              "      <td>7</td>\n",
              "      <td>Шестеркин затаскивает Рейнджерс в финал Восточ...</td>\n",
              "    </tr>\n",
              "    <tr>\n",
              "      <th>...</th>\n",
              "      <td>...</td>\n",
              "      <td>...</td>\n",
              "      <td>...</td>\n",
              "    </tr>\n",
              "    <tr>\n",
              "      <th>38735</th>\n",
              "      <td>910636962</td>\n",
              "      <td>1</td>\n",
              "      <td>8 битная буря снова накрыла пикселями автомоби...</td>\n",
              "    </tr>\n",
              "    <tr>\n",
              "      <th>38736</th>\n",
              "      <td>669736851</td>\n",
              "      <td>1</td>\n",
              "      <td>Ира Сидоркова объясняет как сказалась на ее ма...</td>\n",
              "    </tr>\n",
              "    <tr>\n",
              "      <th>38737</th>\n",
              "      <td>558919241</td>\n",
              "      <td>10</td>\n",
              "      <td>24 я ракетка мира хорват Марин Чилич обыграл и...</td>\n",
              "    </tr>\n",
              "    <tr>\n",
              "      <th>38738</th>\n",
              "      <td>776944963</td>\n",
              "      <td>11</td>\n",
              "      <td>Стал известен календарь мужской сборной России...</td>\n",
              "    </tr>\n",
              "    <tr>\n",
              "      <th>38739</th>\n",
              "      <td>577334983</td>\n",
              "      <td>7</td>\n",
              "      <td>Первенство ВХЛ. Первый этап Динамо Алтай Бн ЦС...</td>\n",
              "    </tr>\n",
              "  </tbody>\n",
              "</table>\n",
              "<p>38740 rows × 3 columns</p>\n",
              "</div>\n",
              "      <button class=\"colab-df-convert\" onclick=\"convertToInteractive('df-34418eec-4e54-4d1e-b77f-5bd3e1ddfe44')\"\n",
              "              title=\"Convert this dataframe to an interactive table.\"\n",
              "              style=\"display:none;\">\n",
              "        \n",
              "  <svg xmlns=\"http://www.w3.org/2000/svg\" height=\"24px\"viewBox=\"0 0 24 24\"\n",
              "       width=\"24px\">\n",
              "    <path d=\"M0 0h24v24H0V0z\" fill=\"none\"/>\n",
              "    <path d=\"M18.56 5.44l.94 2.06.94-2.06 2.06-.94-2.06-.94-.94-2.06-.94 2.06-2.06.94zm-11 1L8.5 8.5l.94-2.06 2.06-.94-2.06-.94L8.5 2.5l-.94 2.06-2.06.94zm10 10l.94 2.06.94-2.06 2.06-.94-2.06-.94-.94-2.06-.94 2.06-2.06.94z\"/><path d=\"M17.41 7.96l-1.37-1.37c-.4-.4-.92-.59-1.43-.59-.52 0-1.04.2-1.43.59L10.3 9.45l-7.72 7.72c-.78.78-.78 2.05 0 2.83L4 21.41c.39.39.9.59 1.41.59.51 0 1.02-.2 1.41-.59l7.78-7.78 2.81-2.81c.8-.78.8-2.07 0-2.86zM5.41 20L4 18.59l7.72-7.72 1.47 1.35L5.41 20z\"/>\n",
              "  </svg>\n",
              "      </button>\n",
              "      \n",
              "  <style>\n",
              "    .colab-df-container {\n",
              "      display:flex;\n",
              "      flex-wrap:wrap;\n",
              "      gap: 12px;\n",
              "    }\n",
              "\n",
              "    .colab-df-convert {\n",
              "      background-color: #E8F0FE;\n",
              "      border: none;\n",
              "      border-radius: 50%;\n",
              "      cursor: pointer;\n",
              "      display: none;\n",
              "      fill: #1967D2;\n",
              "      height: 32px;\n",
              "      padding: 0 0 0 0;\n",
              "      width: 32px;\n",
              "    }\n",
              "\n",
              "    .colab-df-convert:hover {\n",
              "      background-color: #E2EBFA;\n",
              "      box-shadow: 0px 1px 2px rgba(60, 64, 67, 0.3), 0px 1px 3px 1px rgba(60, 64, 67, 0.15);\n",
              "      fill: #174EA6;\n",
              "    }\n",
              "\n",
              "    [theme=dark] .colab-df-convert {\n",
              "      background-color: #3B4455;\n",
              "      fill: #D2E3FC;\n",
              "    }\n",
              "\n",
              "    [theme=dark] .colab-df-convert:hover {\n",
              "      background-color: #434B5C;\n",
              "      box-shadow: 0px 1px 3px 1px rgba(0, 0, 0, 0.15);\n",
              "      filter: drop-shadow(0px 1px 2px rgba(0, 0, 0, 0.3));\n",
              "      fill: #FFFFFF;\n",
              "    }\n",
              "  </style>\n",
              "\n",
              "      <script>\n",
              "        const buttonEl =\n",
              "          document.querySelector('#df-34418eec-4e54-4d1e-b77f-5bd3e1ddfe44 button.colab-df-convert');\n",
              "        buttonEl.style.display =\n",
              "          google.colab.kernel.accessAllowed ? 'block' : 'none';\n",
              "\n",
              "        async function convertToInteractive(key) {\n",
              "          const element = document.querySelector('#df-34418eec-4e54-4d1e-b77f-5bd3e1ddfe44');\n",
              "          const dataTable =\n",
              "            await google.colab.kernel.invokeFunction('convertToInteractive',\n",
              "                                                     [key], {});\n",
              "          if (!dataTable) return;\n",
              "\n",
              "          const docLinkHtml = 'Like what you see? Visit the ' +\n",
              "            '<a target=\"_blank\" href=https://colab.research.google.com/notebooks/data_table.ipynb>data table notebook</a>'\n",
              "            + ' to learn more about interactive tables.';\n",
              "          element.innerHTML = '';\n",
              "          dataTable['output_type'] = 'display_data';\n",
              "          await google.colab.output.renderOutput(dataTable, element);\n",
              "          const docLink = document.createElement('div');\n",
              "          docLink.innerHTML = docLinkHtml;\n",
              "          element.appendChild(docLink);\n",
              "        }\n",
              "      </script>\n",
              "    </div>\n",
              "  </div>\n",
              "  "
            ]
          },
          "metadata": {},
          "execution_count": 132
        }
      ]
    },
    {
      "cell_type": "markdown",
      "source": [
        "![Credit_.jpg](data:image/jpeg;base64,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)"
      ],
      "metadata": {
        "id": "5n3MZFsqDRko"
      }
    },
    {
      "cell_type": "code",
      "source": [
        "tfidf_vectorizer = TfidfVectorizer(stop_words=stop)\n",
        "values = tfidf_vectorizer.fit(train_text)"
      ],
      "metadata": {
        "id": "lqCkH37fLDNr"
      },
      "execution_count": 133,
      "outputs": []
    },
    {
      "cell_type": "code",
      "source": [
        "new_train = values.transform(train_text) #Получаем tf-idf матрицу"
      ],
      "metadata": {
        "id": "Ml1dh58-R7m9"
      },
      "execution_count": 134,
      "outputs": []
    },
    {
      "cell_type": "code",
      "source": [
        "new_train.shape"
      ],
      "metadata": {
        "colab": {
          "base_uri": "https://localhost:8080/"
        },
        "id": "7pxR_33nDpwR",
        "outputId": "b247a5e0-6ad0-472d-c58d-495b8ae82564"
      },
      "execution_count": 135,
      "outputs": [
        {
          "output_type": "execute_result",
          "data": {
            "text/plain": [
              "(38740, 134472)"
            ]
          },
          "metadata": {},
          "execution_count": 135
        }
      ]
    },
    {
      "cell_type": "code",
      "source": [
        "#Разделяем выборку\n",
        "X=new_train\n",
        "y = train_df['category']\n",
        "from sklearn.model_selection import train_test_split\n",
        "x_train, x_test, y_train, y_test = train_test_split(X, y, test_size = 0.25, random_state = 42)"
      ],
      "metadata": {
        "id": "i2_Zw5hFLQV8"
      },
      "execution_count": 136,
      "outputs": []
    },
    {
      "cell_type": "code",
      "source": [
        "sgd = SGDClassifier(alpha=0.00001)\n",
        "sgd.fit(x_train, y_train)"
      ],
      "metadata": {
        "colab": {
          "base_uri": "https://localhost:8080/"
        },
        "id": "rma8VgbyR70d",
        "outputId": "9cf5d394-5b28-4f5b-8a46-99d26510b28e"
      },
      "execution_count": 137,
      "outputs": [
        {
          "output_type": "execute_result",
          "data": {
            "text/plain": [
              "SGDClassifier(alpha=1e-05)"
            ]
          },
          "metadata": {},
          "execution_count": 137
        }
      ]
    },
    {
      "cell_type": "code",
      "source": [
        "y_pred = sgd.predict(x_test)"
      ],
      "metadata": {
        "id": "txWAeLlEpfbL"
      },
      "execution_count": 138,
      "outputs": []
    },
    {
      "cell_type": "code",
      "source": [
        "print(precision_score(y_test, y_pred,average='micro'))"
      ],
      "metadata": {
        "colab": {
          "base_uri": "https://localhost:8080/"
        },
        "id": "FLJXCezIQXRG",
        "outputId": "2a2fcc41-0623-40c1-bb8a-292e9bfce0b6"
      },
      "execution_count": 139,
      "outputs": [
        {
          "output_type": "stream",
          "name": "stdout",
          "text": [
            "0.8448115642746515\n"
          ]
        }
      ]
    },
    {
      "cell_type": "code",
      "source": [
        "score = cross_val_score(sgd, X, y, cv=5) #Кросс-валидация\n",
        "score"
      ],
      "metadata": {
        "colab": {
          "base_uri": "https://localhost:8080/"
        },
        "id": "DpA-UPU5Jt5c",
        "outputId": "cc4e0d60-b333-4acb-a5ab-ef6c6079f3f3"
      },
      "execution_count": 169,
      "outputs": [
        {
          "output_type": "execute_result",
          "data": {
            "text/plain": [
              "array([0.84473412, 0.83505421, 0.84796076, 0.84770263, 0.84254001])"
            ]
          },
          "metadata": {},
          "execution_count": 169
        }
      ]
    },
    {
      "cell_type": "code",
      "source": [
        "print(metrics.classification_report(y_pred, y_test))"
      ],
      "metadata": {
        "colab": {
          "base_uri": "https://localhost:8080/"
        },
        "id": "xd7oMqlJSNH2",
        "outputId": "38233ae1-3ce8-409f-a5ad-df17286751ed"
      },
      "execution_count": 140,
      "outputs": [
        {
          "output_type": "stream",
          "name": "stdout",
          "text": [
            "              precision    recall  f1-score   support\n",
            "\n",
            "           0       0.90      0.90      0.90       693\n",
            "           1       0.83      0.85      0.84       774\n",
            "           2       0.88      0.91      0.89       676\n",
            "           3       0.95      0.90      0.92       790\n",
            "           4       0.72      0.70      0.71       765\n",
            "           5       0.75      0.72      0.74       824\n",
            "           6       0.80      0.79      0.79       727\n",
            "           7       0.84      0.87      0.86       741\n",
            "           8       0.79      0.77      0.78       741\n",
            "           9       0.87      0.87      0.87       765\n",
            "          10       0.95      0.95      0.95       753\n",
            "          11       0.85      0.91      0.88       717\n",
            "          12       0.87      0.86      0.87       719\n",
            "\n",
            "    accuracy                           0.84      9685\n",
            "   macro avg       0.85      0.85      0.85      9685\n",
            "weighted avg       0.84      0.84      0.84      9685\n",
            "\n"
          ]
        }
      ]
    },
    {
      "cell_type": "code",
      "source": [
        "test_text = preproc(test_df)"
      ],
      "metadata": {
        "id": "1d9kDMMpQ_6S"
      },
      "execution_count": 141,
      "outputs": []
    },
    {
      "cell_type": "code",
      "source": [
        "new_test = values.transform(test_text)"
      ],
      "metadata": {
        "id": "0RCDmwubEjS6"
      },
      "execution_count": 142,
      "outputs": []
    },
    {
      "cell_type": "code",
      "source": [
        "ans = sgd.predict(new_test)"
      ],
      "metadata": {
        "id": "vYvjIJ3YRn7d"
      },
      "execution_count": 143,
      "outputs": []
    },
    {
      "cell_type": "code",
      "source": [
        "inv = encode.inverse_transform(ans) #Возвращаем категориальный признак из числового\n",
        "inv"
      ],
      "metadata": {
        "id": "fqpC3nINUIUJ",
        "colab": {
          "base_uri": "https://localhost:8080/"
        },
        "outputId": "e17e8d31-9e93-442f-f742-15f0495fe6f2"
      },
      "execution_count": 145,
      "outputs": [
        {
          "output_type": "execute_result",
          "data": {
            "text/plain": [
              "array(['esport', 'martial_arts', 'tennis', ..., 'boardgames',\n",
              "       'volleyball', 'athletics'], dtype=object)"
            ]
          },
          "metadata": {},
          "execution_count": 145
        }
      ]
    },
    {
      "cell_type": "code",
      "source": [
        "answer1 = pd.DataFrame(data = inv ,columns=['category'])\n",
        "answer1['oid'] = test_df['oid']\n",
        "answer1"
      ],
      "metadata": {
        "colab": {
          "base_uri": "https://localhost:8080/",
          "height": 424
        },
        "id": "BCMqrfH1UWe3",
        "outputId": "c0d709b6-c98a-4691-cbd1-f70c96bd152d"
      },
      "execution_count": 146,
      "outputs": [
        {
          "output_type": "execute_result",
          "data": {
            "text/plain": [
              "           category        oid\n",
              "0            esport  749208109\n",
              "1      martial_arts  452466036\n",
              "2            tennis  161038103\n",
              "3            esport  663621910\n",
              "4            tennis  566255305\n",
              "...             ...        ...\n",
              "26255    boardgames  169728316\n",
              "26256    volleyball  279369911\n",
              "26257    boardgames  600699419\n",
              "26258    volleyball  560223506\n",
              "26259     athletics  724673712\n",
              "\n",
              "[26260 rows x 2 columns]"
            ],
            "text/html": [
              "\n",
              "  <div id=\"df-fbeee49d-e30a-4379-bdfc-7c465096272a\">\n",
              "    <div class=\"colab-df-container\">\n",
              "      <div>\n",
              "<style scoped>\n",
              "    .dataframe tbody tr th:only-of-type {\n",
              "        vertical-align: middle;\n",
              "    }\n",
              "\n",
              "    .dataframe tbody tr th {\n",
              "        vertical-align: top;\n",
              "    }\n",
              "\n",
              "    .dataframe thead th {\n",
              "        text-align: right;\n",
              "    }\n",
              "</style>\n",
              "<table border=\"1\" class=\"dataframe\">\n",
              "  <thead>\n",
              "    <tr style=\"text-align: right;\">\n",
              "      <th></th>\n",
              "      <th>category</th>\n",
              "      <th>oid</th>\n",
              "    </tr>\n",
              "  </thead>\n",
              "  <tbody>\n",
              "    <tr>\n",
              "      <th>0</th>\n",
              "      <td>esport</td>\n",
              "      <td>749208109</td>\n",
              "    </tr>\n",
              "    <tr>\n",
              "      <th>1</th>\n",
              "      <td>martial_arts</td>\n",
              "      <td>452466036</td>\n",
              "    </tr>\n",
              "    <tr>\n",
              "      <th>2</th>\n",
              "      <td>tennis</td>\n",
              "      <td>161038103</td>\n",
              "    </tr>\n",
              "    <tr>\n",
              "      <th>3</th>\n",
              "      <td>esport</td>\n",
              "      <td>663621910</td>\n",
              "    </tr>\n",
              "    <tr>\n",
              "      <th>4</th>\n",
              "      <td>tennis</td>\n",
              "      <td>566255305</td>\n",
              "    </tr>\n",
              "    <tr>\n",
              "      <th>...</th>\n",
              "      <td>...</td>\n",
              "      <td>...</td>\n",
              "    </tr>\n",
              "    <tr>\n",
              "      <th>26255</th>\n",
              "      <td>boardgames</td>\n",
              "      <td>169728316</td>\n",
              "    </tr>\n",
              "    <tr>\n",
              "      <th>26256</th>\n",
              "      <td>volleyball</td>\n",
              "      <td>279369911</td>\n",
              "    </tr>\n",
              "    <tr>\n",
              "      <th>26257</th>\n",
              "      <td>boardgames</td>\n",
              "      <td>600699419</td>\n",
              "    </tr>\n",
              "    <tr>\n",
              "      <th>26258</th>\n",
              "      <td>volleyball</td>\n",
              "      <td>560223506</td>\n",
              "    </tr>\n",
              "    <tr>\n",
              "      <th>26259</th>\n",
              "      <td>athletics</td>\n",
              "      <td>724673712</td>\n",
              "    </tr>\n",
              "  </tbody>\n",
              "</table>\n",
              "<p>26260 rows × 2 columns</p>\n",
              "</div>\n",
              "      <button class=\"colab-df-convert\" onclick=\"convertToInteractive('df-fbeee49d-e30a-4379-bdfc-7c465096272a')\"\n",
              "              title=\"Convert this dataframe to an interactive table.\"\n",
              "              style=\"display:none;\">\n",
              "        \n",
              "  <svg xmlns=\"http://www.w3.org/2000/svg\" height=\"24px\"viewBox=\"0 0 24 24\"\n",
              "       width=\"24px\">\n",
              "    <path d=\"M0 0h24v24H0V0z\" fill=\"none\"/>\n",
              "    <path d=\"M18.56 5.44l.94 2.06.94-2.06 2.06-.94-2.06-.94-.94-2.06-.94 2.06-2.06.94zm-11 1L8.5 8.5l.94-2.06 2.06-.94-2.06-.94L8.5 2.5l-.94 2.06-2.06.94zm10 10l.94 2.06.94-2.06 2.06-.94-2.06-.94-.94-2.06-.94 2.06-2.06.94z\"/><path d=\"M17.41 7.96l-1.37-1.37c-.4-.4-.92-.59-1.43-.59-.52 0-1.04.2-1.43.59L10.3 9.45l-7.72 7.72c-.78.78-.78 2.05 0 2.83L4 21.41c.39.39.9.59 1.41.59.51 0 1.02-.2 1.41-.59l7.78-7.78 2.81-2.81c.8-.78.8-2.07 0-2.86zM5.41 20L4 18.59l7.72-7.72 1.47 1.35L5.41 20z\"/>\n",
              "  </svg>\n",
              "      </button>\n",
              "      \n",
              "  <style>\n",
              "    .colab-df-container {\n",
              "      display:flex;\n",
              "      flex-wrap:wrap;\n",
              "      gap: 12px;\n",
              "    }\n",
              "\n",
              "    .colab-df-convert {\n",
              "      background-color: #E8F0FE;\n",
              "      border: none;\n",
              "      border-radius: 50%;\n",
              "      cursor: pointer;\n",
              "      display: none;\n",
              "      fill: #1967D2;\n",
              "      height: 32px;\n",
              "      padding: 0 0 0 0;\n",
              "      width: 32px;\n",
              "    }\n",
              "\n",
              "    .colab-df-convert:hover {\n",
              "      background-color: #E2EBFA;\n",
              "      box-shadow: 0px 1px 2px rgba(60, 64, 67, 0.3), 0px 1px 3px 1px rgba(60, 64, 67, 0.15);\n",
              "      fill: #174EA6;\n",
              "    }\n",
              "\n",
              "    [theme=dark] .colab-df-convert {\n",
              "      background-color: #3B4455;\n",
              "      fill: #D2E3FC;\n",
              "    }\n",
              "\n",
              "    [theme=dark] .colab-df-convert:hover {\n",
              "      background-color: #434B5C;\n",
              "      box-shadow: 0px 1px 3px 1px rgba(0, 0, 0, 0.15);\n",
              "      filter: drop-shadow(0px 1px 2px rgba(0, 0, 0, 0.3));\n",
              "      fill: #FFFFFF;\n",
              "    }\n",
              "  </style>\n",
              "\n",
              "      <script>\n",
              "        const buttonEl =\n",
              "          document.querySelector('#df-fbeee49d-e30a-4379-bdfc-7c465096272a button.colab-df-convert');\n",
              "        buttonEl.style.display =\n",
              "          google.colab.kernel.accessAllowed ? 'block' : 'none';\n",
              "\n",
              "        async function convertToInteractive(key) {\n",
              "          const element = document.querySelector('#df-fbeee49d-e30a-4379-bdfc-7c465096272a');\n",
              "          const dataTable =\n",
              "            await google.colab.kernel.invokeFunction('convertToInteractive',\n",
              "                                                     [key], {});\n",
              "          if (!dataTable) return;\n",
              "\n",
              "          const docLinkHtml = 'Like what you see? Visit the ' +\n",
              "            '<a target=\"_blank\" href=https://colab.research.google.com/notebooks/data_table.ipynb>data table notebook</a>'\n",
              "            + ' to learn more about interactive tables.';\n",
              "          element.innerHTML = '';\n",
              "          dataTable['output_type'] = 'display_data';\n",
              "          await google.colab.output.renderOutput(dataTable, element);\n",
              "          const docLink = document.createElement('div');\n",
              "          docLink.innerHTML = docLinkHtml;\n",
              "          element.appendChild(docLink);\n",
              "        }\n",
              "      </script>\n",
              "    </div>\n",
              "  </div>\n",
              "  "
            ]
          },
          "metadata": {},
          "execution_count": 146
        }
      ]
    },
    {
      "cell_type": "code",
      "source": [
        "new_df = answer1[['oid','category']]"
      ],
      "metadata": {
        "id": "Nc-x1iHAT9xa"
      },
      "execution_count": 147,
      "outputs": []
    },
    {
      "cell_type": "code",
      "source": [
        "print(new_df,new_df.shape)"
      ],
      "metadata": {
        "colab": {
          "base_uri": "https://localhost:8080/"
        },
        "id": "cdoM7C1kskrK",
        "outputId": "e6ac1189-aebc-4147-a5b0-e68a6f42a831"
      },
      "execution_count": 162,
      "outputs": [
        {
          "output_type": "stream",
          "name": "stdout",
          "text": [
            "             oid      category\n",
            "0      749208109        esport\n",
            "1      452466036  martial_arts\n",
            "2      161038103        tennis\n",
            "3      663621910        esport\n",
            "4      566255305        tennis\n",
            "...          ...           ...\n",
            "26255  169728316    boardgames\n",
            "26256  279369911    volleyball\n",
            "26257  600699419    boardgames\n",
            "26258  560223506    volleyball\n",
            "26259  724673712     athletics\n",
            "\n",
            "[26260 rows x 2 columns] (26260, 2)\n"
          ]
        }
      ]
    },
    {
      "cell_type": "code",
      "source": [
        "new_df['category'].value_counts()"
      ],
      "metadata": {
        "colab": {
          "base_uri": "https://localhost:8080/"
        },
        "id": "QBu7hfu0tbQx",
        "outputId": "18a2f427-bbed-4fc8-a1e5-bc312807e28b"
      },
      "execution_count": 150,
      "outputs": [
        {
          "output_type": "execute_result",
          "data": {
            "text/plain": [
              "esport          2188\n",
              "winter_sport    2176\n",
              "boardgames      2097\n",
              "volleyball      2048\n",
              "motosport       2016\n",
              "athletics       2000\n",
              "tennis          1998\n",
              "extreme         1991\n",
              "martial_arts    1976\n",
              "hockey          1968\n",
              "basketball      1967\n",
              "football        1952\n",
              "autosport       1883\n",
              "Name: category, dtype: int64"
            ]
          },
          "metadata": {},
          "execution_count": 150
        }
      ]
    },
    {
      "cell_type": "code",
      "source": [
        "new_df[new_df['oid'] == 750586033]['category'].value_counts()"
      ],
      "metadata": {
        "colab": {
          "base_uri": "https://localhost:8080/"
        },
        "id": "dCTKmQYVsdcY",
        "outputId": "8b476680-5920-44d6-b5ac-2264cab5385f"
      },
      "execution_count": 160,
      "outputs": [
        {
          "output_type": "execute_result",
          "data": {
            "text/plain": [
              "martial_arts    6\n",
              "boardgames      1\n",
              "extreme         1\n",
              "esport          1\n",
              "autosport       1\n",
              "Name: category, dtype: int64"
            ]
          },
          "metadata": {},
          "execution_count": 160
        }
      ]
    },
    {
      "cell_type": "code",
      "source": [
        "new_df[new_df['oid'] == 750586033]['category'].mode()[0] "
      ],
      "metadata": {
        "colab": {
          "base_uri": "https://localhost:8080/",
          "height": 35
        },
        "id": "Y4Pj73EKv1vy",
        "outputId": "d88618ca-8760-4327-d811-e93884a72163"
      },
      "execution_count": 163,
      "outputs": [
        {
          "output_type": "execute_result",
          "data": {
            "text/plain": [
              "'martial_arts'"
            ],
            "application/vnd.google.colaboratory.intrinsic+json": {
              "type": "string"
            }
          },
          "metadata": {},
          "execution_count": 163
        }
      ]
    },
    {
      "cell_type": "code",
      "source": [
        "new_df.to_csv(\"predict.csv\",index=False)"
      ],
      "metadata": {
        "id": "Y9_17qB0Ueid"
      },
      "execution_count": 164,
      "outputs": []
    },
    {
      "cell_type": "code",
      "source": [
        "from google.colab import files\n",
        "files.download(\"predict.csv\")"
      ],
      "metadata": {
        "colab": {
          "base_uri": "https://localhost:8080/",
          "height": 17
        },
        "id": "r4i0l7i3UiKS",
        "outputId": "0e7b6461-87f6-4cf9-bb9b-60e5f72438d9"
      },
      "execution_count": null,
      "outputs": [
        {
          "output_type": "display_data",
          "data": {
            "text/plain": [
              "<IPython.core.display.Javascript object>"
            ],
            "application/javascript": [
              "\n",
              "    async function download(id, filename, size) {\n",
              "      if (!google.colab.kernel.accessAllowed) {\n",
              "        return;\n",
              "      }\n",
              "      const div = document.createElement('div');\n",
              "      const label = document.createElement('label');\n",
              "      label.textContent = `Downloading \"${filename}\": `;\n",
              "      div.appendChild(label);\n",
              "      const progress = document.createElement('progress');\n",
              "      progress.max = size;\n",
              "      div.appendChild(progress);\n",
              "      document.body.appendChild(div);\n",
              "\n",
              "      const buffers = [];\n",
              "      let downloaded = 0;\n",
              "\n",
              "      const channel = await google.colab.kernel.comms.open(id);\n",
              "      // Send a message to notify the kernel that we're ready.\n",
              "      channel.send({})\n",
              "\n",
              "      for await (const message of channel.messages) {\n",
              "        // Send a message to notify the kernel that we're ready.\n",
              "        channel.send({})\n",
              "        if (message.buffers) {\n",
              "          for (const buffer of message.buffers) {\n",
              "            buffers.push(buffer);\n",
              "            downloaded += buffer.byteLength;\n",
              "            progress.value = downloaded;\n",
              "          }\n",
              "        }\n",
              "      }\n",
              "      const blob = new Blob(buffers, {type: 'application/binary'});\n",
              "      const a = document.createElement('a');\n",
              "      a.href = window.URL.createObjectURL(blob);\n",
              "      a.download = filename;\n",
              "      div.appendChild(a);\n",
              "      a.click();\n",
              "      div.remove();\n",
              "    }\n",
              "  "
            ]
          },
          "metadata": {}
        },
        {
          "output_type": "display_data",
          "data": {
            "text/plain": [
              "<IPython.core.display.Javascript object>"
            ],
            "application/javascript": [
              "download(\"download_ccc8df63-d3a8-4a47-ac37-af13a0912e1b\", \"predict.csv\", 516786)"
            ]
          },
          "metadata": {}
        }
      ]
    }
  ]
}